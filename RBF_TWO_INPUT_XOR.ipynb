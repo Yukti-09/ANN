{
 "cells": [
  {
   "cell_type": "code",
   "execution_count": 1,
   "metadata": {},
   "outputs": [],
   "source": [
    "import numpy as np\n",
    "import math"
   ]
  },
  {
   "cell_type": "code",
   "execution_count": 2,
   "metadata": {},
   "outputs": [],
   "source": [
    "x = [[0,0],[0,1],[1,0],[1,1]] #Inputs\n",
    "N = 4 #Number of hidden layers\n",
    "yd = [[0],[1],[1],[0]]"
   ]
  },
  {
   "cell_type": "code",
   "execution_count": 3,
   "metadata": {},
   "outputs": [],
   "source": [
    "def calc_multiquadric(r):# Assuming the constant to be 1\n",
    "    return(math.sqrt(pow(r,2)+1))"
   ]
  },
  {
   "cell_type": "code",
   "execution_count": 4,
   "metadata": {},
   "outputs": [
    {
     "name": "stdout",
     "output_type": "stream",
     "text": [
      "[[1.0, 1.4142135623730951, 1.4142135623730951, 2.23606797749979], [1.4142135623730951, 1.0, 2.23606797749979, 1.4142135623730951], [1.4142135623730951, 2.23606797749979, 1.0, 1.4142135623730951], [2.23606797749979, 1.4142135623730951, 1.4142135623730951, 1.0]]\n"
     ]
    }
   ],
   "source": [
    "fie = []\n",
    "for i in range(4): \n",
    "    temp = []\n",
    "    for j in range(4):\n",
    "        summ = 0\n",
    "        for k in range(2):\n",
    "            summ+= abs(x[i][k]-x[j][k])\n",
    "        num = calc_multiquadric(summ)\n",
    "        temp.append(num)\n",
    "    fie.append(temp)\n",
    "print(fie)\n"
   ]
  },
  {
   "cell_type": "code",
   "execution_count": 5,
   "metadata": {},
   "outputs": [
    {
     "name": "stdout",
     "output_type": "stream",
     "text": [
      "[[1.         1.41421356 1.41421356 2.23606798]\n",
      " [1.41421356 1.         2.23606798 1.41421356]\n",
      " [1.41421356 2.23606798 1.         1.41421356]\n",
      " [2.23606798 1.41421356 1.41421356 1.        ]]\n"
     ]
    }
   ],
   "source": [
    "fie=np.asarray(fie)\n",
    "print(fie)"
   ]
  },
  {
   "cell_type": "code",
   "execution_count": 6,
   "metadata": {},
   "outputs": [
    {
     "name": "stdout",
     "output_type": "stream",
     "text": [
      "[[ 0.25       -0.5720614  -0.5720614   1.05901699]\n",
      " [-0.5720614   0.25        1.05901699 -0.5720614 ]\n",
      " [-0.5720614   1.05901699  0.25       -0.5720614 ]\n",
      " [ 1.05901699 -0.5720614  -0.5720614   0.25      ]]\n"
     ]
    }
   ],
   "source": [
    "fie_inverse = np.linalg.inv(fie) \n",
    "print(fie_inverse)"
   ]
  },
  {
   "cell_type": "code",
   "execution_count": 7,
   "metadata": {},
   "outputs": [
    {
     "name": "stdout",
     "output_type": "stream",
     "text": [
      "[[-1.14412281]\n",
      " [ 1.30901699]\n",
      " [ 1.30901699]\n",
      " [-1.14412281]]\n"
     ]
    }
   ],
   "source": [
    "w = np.dot(fie_inverse,yd)\n",
    "print(w)"
   ]
  },
  {
   "cell_type": "code",
   "execution_count": 8,
   "metadata": {},
   "outputs": [
    {
     "name": "stdout",
     "output_type": "stream",
     "text": [
      "[[-4.44089210e-16]\n",
      " [ 1.00000000e+00]\n",
      " [ 1.00000000e+00]\n",
      " [-1.11022302e-15]]\n"
     ]
    }
   ],
   "source": [
    "f = np.dot(fie,w)\n",
    "print(f) #which is approximated to yd"
   ]
  },
  {
   "cell_type": "code",
   "execution_count": null,
   "metadata": {},
   "outputs": [],
   "source": []
  }
 ],
 "metadata": {
  "kernelspec": {
   "display_name": "Python 3",
   "language": "python",
   "name": "python3"
  },
  "language_info": {
   "codemirror_mode": {
    "name": "ipython",
    "version": 3
   },
   "file_extension": ".py",
   "mimetype": "text/x-python",
   "name": "python",
   "nbconvert_exporter": "python",
   "pygments_lexer": "ipython3",
   "version": "3.7.7"
  }
 },
 "nbformat": 4,
 "nbformat_minor": 4
}
